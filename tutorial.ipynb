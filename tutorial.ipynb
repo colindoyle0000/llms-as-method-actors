{
 "cells": [
  {
   "cell_type": "markdown",
   "metadata": {},
   "source": [
    "# Install dependencies"
   ]
  },
  {
   "cell_type": "markdown",
   "metadata": {},
   "source": [
    "1. Setup your API key\n",
    "\n",
    "Store your OpenAI API key in environment variable ``OPENAI_API_KEY``. (To learn more about setting up an OpenAI API key, follow [this link](https://help.openai.com/en/articles/5112595-best-practices-for-api-key-safety)). If you would like to use Anthropic or Gemini models, store those keys in environmental variables ``ANTHROPIC_API_KEY`` and ``GEMINI_API_KEY``."
   ]
  },
  {
   "cell_type": "markdown",
   "metadata": {},
   "source": [
    "2. Install necessary packages"
   ]
  },
  {
   "cell_type": "code",
   "execution_count": null,
   "metadata": {},
   "outputs": [],
   "source": [
    "%pip install -r requirements.txt"
   ]
  },
  {
   "cell_type": "markdown",
   "metadata": {},
   "source": [
    "# Import classes"
   ]
  },
  {
   "cell_type": "code",
   "execution_count": null,
   "metadata": {},
   "outputs": [],
   "source": [
    "import logging"
   ]
  },
  {
   "cell_type": "code",
   "execution_count": null,
   "metadata": {},
   "outputs": [],
   "source": [
    "from src.experiment_4o import Experiment4o\n",
    "from src.experiment_actor_2 import ExperimentActor2\n",
    "from src.experiment_o1 import Experimento1"
   ]
  },
  {
   "cell_type": "code",
   "execution_count": null,
   "metadata": {},
   "outputs": [],
   "source": [
    "# Setup logging if you would like to log messages.\n",
    "# This is helpful for tracking intermediate results from the experiments.\n",
    "\n",
    "from src import setup_logging\n",
    "setup_logging.setup_logger()\n",
    "logger = logging.getLogger('method-actors')\n",
    "logger.info('This is an info message')"
   ]
  },
  {
   "cell_type": "markdown",
   "metadata": {},
   "source": [
    "# Run experiments"
   ]
  },
  {
   "cell_type": "code",
   "execution_count": null,
   "metadata": {},
   "outputs": [],
   "source": [
    "# Set the puzzle numbers list to include the numbers of any existing puzzles you would like to test.\n",
    "# The full archive of puzzles can be found here: https://connections.swellgarfo.com/archive\n",
    "\n",
    "puzzle_numbers = [519]"
   ]
  },
  {
   "cell_type": "markdown",
   "metadata": {},
   "source": [
    "Run GPT-4o approaches: Vanilla, Chain-of-Thought, Chain-of-Thought (Scripted), and Actor"
   ]
  },
  {
   "cell_type": "code",
   "execution_count": null,
   "metadata": {},
   "outputs": [],
   "source": [
    "# Set the puzzle numbers and name the experiments. By default, the name determines the directory where the results are saved.\n",
    "experiment_4o = Experiment4o(puzzle_numbers)\n",
    "experiment_4o.set_path(name='experiment_4o')\n",
    "experiment_4o.set_puzzles()\n",
    "# Run the experiments\n",
    "experiment_4o.finish_experiment()\n"
   ]
  },
  {
   "cell_type": "markdown",
   "metadata": {},
   "source": [
    "Run GPT-4o Actor-2 approach"
   ]
  },
  {
   "cell_type": "code",
   "execution_count": null,
   "metadata": {},
   "outputs": [],
   "source": [
    "# Run the experiments\n",
    "experiment_actor2 = ExperimentActor2(puzzle_numbers)\n",
    "experiment_actor2.set_path(name='experiment_actor2')\n",
    "experiment_actor2.set_puzzles()\n",
    "experiment_actor2.finish_experiment()"
   ]
  },
  {
   "cell_type": "markdown",
   "metadata": {},
   "source": [
    "Run o1-preview approaches: Oneshot-o1, Vanilla-o1, and Actor-o1"
   ]
  },
  {
   "cell_type": "code",
   "execution_count": null,
   "metadata": {},
   "outputs": [],
   "source": [
    "experiment_o1 = Experimento1(puzzle_numbers)\n",
    "experiment_o1.set_path(name='experiment_o1')\n",
    "experiment_o1.set_puzzles()\n",
    "# Run the experiments\n",
    "experiment_o1.finish_experiment()"
   ]
  }
 ],
 "metadata": {
  "kernelspec": {
   "display_name": "connections_v3",
   "language": "python",
   "name": "python3"
  },
  "language_info": {
   "codemirror_mode": {
    "name": "ipython",
    "version": 3
   },
   "file_extension": ".py",
   "mimetype": "text/x-python",
   "name": "python",
   "nbconvert_exporter": "python",
   "pygments_lexer": "ipython3",
   "version": "3.10.14"
  }
 },
 "nbformat": 4,
 "nbformat_minor": 2
}
